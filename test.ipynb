{
 "cells": [
  {
   "cell_type": "code",
   "execution_count": 1,
   "id": "28b7b1ff",
   "metadata": {},
   "outputs": [],
   "source": [
    "from vnpy_wind import Datafeed"
   ]
  },
  {
   "cell_type": "code",
   "execution_count": 2,
   "id": "0b0c2f32",
   "metadata": {},
   "outputs": [],
   "source": [
    "from vnpy.trader.object import *"
   ]
  },
  {
   "cell_type": "code",
   "execution_count": 3,
   "id": "800ffcdc",
   "metadata": {},
   "outputs": [],
   "source": [
    "datafeed = Datafeed()"
   ]
  },
  {
   "cell_type": "code",
   "execution_count": 18,
   "id": "4d96a930",
   "metadata": {},
   "outputs": [],
   "source": [
    "req = HistoryRequest(\n",
    "    symbol=\"IF2112\",\n",
    "    exchange=Exchange.CFFEX,\n",
    "    interval=Interval.MINUTE,\n",
    "    start=datetime(2021, 10, 12),\n",
    "    end=datetime.now()\n",
    ")"
   ]
  },
  {
   "cell_type": "code",
   "execution_count": 19,
   "id": "caa525a1",
   "metadata": {},
   "outputs": [
    {
     "data": {
      "text/plain": [
       "BarData(gateway_name='WIND', symbol='IF2112', exchange=<Exchange.CFFEX: 'CFFEX'>, datetime=datetime.datetime(2021, 10, 12, 9, 30, tzinfo=<DstTzInfo 'Asia/Shanghai' CST+8:00:00 STD>), interval=<Interval.MINUTE: '1m'>, volume=668.0, turnover=979199820.0, open_interest=74375.0, open_price=4895.0, high_price=4895.0, low_price=4882.0, close_price=4884.4)"
      ]
     },
     "execution_count": 19,
     "metadata": {},
     "output_type": "execute_result"
    }
   ],
   "source": [
    "bars = datafeed.query_bar_history(req)\n",
    "bars[-1]"
   ]
  },
  {
   "cell_type": "code",
   "execution_count": null,
   "metadata": {},
   "outputs": [],
   "source": []
  }
 ],
 "metadata": {
  "interpreter": {
   "hash": "0d2af4708e901420ca316528daed9d207adf237f59982b81f6b4928a0eab77f9"
  },
  "kernelspec": {
   "display_name": "Python 3.7.1 64-bit (system)",
   "name": "python3"
  },
  "language_info": {
   "codemirror_mode": {
    "name": "ipython",
    "version": 3
   },
   "file_extension": ".py",
   "mimetype": "text/x-python",
   "name": "python",
   "nbconvert_exporter": "python",
   "pygments_lexer": "ipython3",
   "version": "3.7.1"
  }
 },
 "nbformat": 4,
 "nbformat_minor": 5
}
