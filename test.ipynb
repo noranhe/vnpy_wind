{
 "cells": [
  {
   "cell_type": "code",
   "execution_count": 1,
   "id": "28b7b1ff",
   "metadata": {},
   "outputs": [],
   "source": [
    "from vnpy_wind import Datafeed"
   ]
  },
  {
   "cell_type": "code",
   "execution_count": 2,
   "id": "0b0c2f32",
   "metadata": {},
   "outputs": [],
   "source": [
    "from vnpy.trader.object import *"
   ]
  },
  {
   "cell_type": "code",
   "execution_count": 3,
   "id": "800ffcdc",
   "metadata": {},
   "outputs": [],
   "source": [
    "datafeed = Datafeed()"
   ]
  },
  {
   "cell_type": "code",
   "execution_count": 9,
   "id": "4d96a930",
   "metadata": {},
   "outputs": [],
   "source": [
    "req = HistoryRequest(\n",
    "    symbol=\"IF2112\",\n",
    "    exchange=Exchange.CFFEX,\n",
    "    interval=Interval.MINUTE,\n",
    "    start=datetime(2021, 10, 12),\n",
    "    end=datetime.now()\n",
    ")"
   ]
  },
  {
   "cell_type": "code",
   "execution_count": 10,
   "id": "caa525a1",
   "metadata": {},
   "outputs": [
    {
     "data": {
      "text/plain": [
       "BarData(gateway_name='WIND', symbol='IF2112', exchange=<Exchange.CFFEX: 'CFFEX'>, datetime=datetime.datetime(2021, 10, 12, 9, 30, tzinfo=<DstTzInfo 'Asia/Shanghai' CST+8:00:00 STD>), interval=<Interval.MINUTE: '1m'>, volume=668.0, turnover=979199820.0, open_interest=74375.0, open_price=4895.0, high_price=4895.0, low_price=4882.0, close_price=4884.4)"
      ]
     },
     "execution_count": 10,
     "metadata": {},
     "output_type": "execute_result"
    }
   ],
   "source": [
    "bars = datafeed.query_bar_history(req)\n",
    "bars[0]"
   ]
  },
  {
   "cell_type": "code",
   "execution_count": 6,
   "id": "abcecdb5",
   "metadata": {},
   "outputs": [
    {
     "ename": "AttributeError",
     "evalue": "'tuple' object has no attribute 'itertuples'",
     "output_type": "error",
     "traceback": [
      "\u001b[1;31m---------------------------------------------------------------------------\u001b[0m",
      "\u001b[1;31mAttributeError\u001b[0m                            Traceback (most recent call last)",
      "\u001b[1;32m~\\AppData\\Local\\Temp/ipykernel_18508/930362495.py\u001b[0m in \u001b[0;36m<module>\u001b[1;34m\u001b[0m\n\u001b[1;32m----> 1\u001b[1;33m \u001b[0mticks\u001b[0m \u001b[1;33m=\u001b[0m \u001b[0mdatafeed\u001b[0m\u001b[1;33m.\u001b[0m\u001b[0mquery_tick_history\u001b[0m\u001b[1;33m(\u001b[0m\u001b[0mreq\u001b[0m\u001b[1;33m)\u001b[0m\u001b[1;33m\u001b[0m\u001b[1;33m\u001b[0m\u001b[0m\n\u001b[0m\u001b[0;32m      2\u001b[0m \u001b[0mticks\u001b[0m\u001b[1;33m[\u001b[0m\u001b[1;36m0\u001b[0m\u001b[1;33m]\u001b[0m\u001b[1;33m\u001b[0m\u001b[1;33m\u001b[0m\u001b[0m\n",
      "\u001b[1;32mc:\\GitHub\\vnpy_wind\\vnpy_wind\\wind_datafeed.py\u001b[0m in \u001b[0;36mquery_tick_history\u001b[1;34m(self, req)\u001b[0m\n\u001b[0;32m    199\u001b[0m \u001b[1;33m\u001b[0m\u001b[0m\n\u001b[0;32m    200\u001b[0m         \u001b[0mticks\u001b[0m\u001b[1;33m:\u001b[0m \u001b[0mList\u001b[0m\u001b[1;33m[\u001b[0m\u001b[0mTickData\u001b[0m\u001b[1;33m]\u001b[0m \u001b[1;33m=\u001b[0m \u001b[1;33m[\u001b[0m\u001b[1;33m]\u001b[0m\u001b[1;33m\u001b[0m\u001b[1;33m\u001b[0m\u001b[0m\n\u001b[1;32m--> 201\u001b[1;33m         \u001b[1;32mfor\u001b[0m \u001b[0mtp\u001b[0m \u001b[1;32min\u001b[0m \u001b[0mdf\u001b[0m\u001b[1;33m.\u001b[0m\u001b[0mitertuples\u001b[0m\u001b[1;33m(\u001b[0m\u001b[1;33m)\u001b[0m\u001b[1;33m:\u001b[0m\u001b[1;33m\u001b[0m\u001b[1;33m\u001b[0m\u001b[0m\n\u001b[0m\u001b[0;32m    202\u001b[0m             tick = TickData(\n\u001b[0;32m    203\u001b[0m                 \u001b[0msymbol\u001b[0m\u001b[1;33m=\u001b[0m\u001b[0mreq\u001b[0m\u001b[1;33m.\u001b[0m\u001b[0msymbol\u001b[0m\u001b[1;33m,\u001b[0m\u001b[1;33m\u001b[0m\u001b[1;33m\u001b[0m\u001b[0m\n",
      "\u001b[1;31mAttributeError\u001b[0m: 'tuple' object has no attribute 'itertuples'"
     ]
    }
   ],
   "source": [
    "ticks = datafeed.query_tick_history(req)\n",
    "ticks[0]"
   ]
  },
  {
   "cell_type": "code",
   "execution_count": null,
   "metadata": {},
   "outputs": [],
   "source": [
    "bars[0]"
   ]
  },
  {
   "cell_type": "code",
   "execution_count": null,
   "metadata": {},
   "outputs": [],
   "source": []
  }
 ],
 "metadata": {
  "interpreter": {
   "hash": "0d2af4708e901420ca316528daed9d207adf237f59982b81f6b4928a0eab77f9"
  },
  "kernelspec": {
   "display_name": "Python 3.7.1 64-bit (system)",
   "name": "python3"
  },
  "language_info": {
   "codemirror_mode": {
    "name": "ipython",
    "version": 3
   },
   "file_extension": ".py",
   "mimetype": "text/x-python",
   "name": "python",
   "nbconvert_exporter": "python",
   "pygments_lexer": "ipython3",
   "version": "3.7.1"
  }
 },
 "nbformat": 4,
 "nbformat_minor": 5
}
